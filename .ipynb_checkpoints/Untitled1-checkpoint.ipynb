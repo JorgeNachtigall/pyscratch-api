{
 "cells": [
  {
   "cell_type": "code",
   "execution_count": 59,
   "metadata": {},
   "outputs": [
    {
     "data": {
      "text/plain": [
       "[1, 2, 3]"
      ]
     },
     "execution_count": 59,
     "metadata": {},
     "output_type": "execute_result"
    }
   ],
   "source": [
    "class test(list):\n",
    "    def __init__(self):\n",
    "        super().__init__()\n",
    "    \n",
    "    def conte(self):\n",
    "        count = 0\n",
    "        while True:\n",
    "            try:\n",
    "                print(list.__getitem__(self, count))\n",
    "                count += 1\n",
    "            except IndexError:\n",
    "                break\n",
    "\n",
    "lista = test()\n",
    "lista.append(1)\n",
    "lista.append(2)\n",
    "lista.append(3)\n",
    "\n",
    "lista"
   ]
  },
  {
   "cell_type": "code",
   "execution_count": null,
   "metadata": {},
   "outputs": [],
   "source": []
  },
  {
   "cell_type": "code",
   "execution_count": null,
   "metadata": {},
   "outputs": [],
   "source": []
  }
 ],
 "metadata": {
  "kernelspec": {
   "display_name": "Python 3",
   "language": "python",
   "name": "python3"
  },
  "language_info": {
   "codemirror_mode": {
    "name": "ipython",
    "version": 3
   },
   "file_extension": ".py",
   "mimetype": "text/x-python",
   "name": "python",
   "nbconvert_exporter": "python",
   "pygments_lexer": "ipython3",
   "version": "3.7.1"
  }
 },
 "nbformat": 4,
 "nbformat_minor": 2
}
